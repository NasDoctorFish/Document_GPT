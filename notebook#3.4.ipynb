{
 "cells": [
  {
   "cell_type": "code",
   "execution_count": 10,
   "metadata": {},
   "outputs": [],
   "source": [
    "from langchain.chat_models import ChatOpenAI\n",
    "from langchain.prompts import ChatPromptTemplate\n",
    "from langchain.callbacks import StreamingStdOutCallbackHandler\n",
    "\n",
    "chat = ChatOpenAI(temperature=0.1 , streaming = True, callbacks=[StreamingStdOutCallbackHandler()])\n",
    "\n",
    "#chef come up with the easy pizzy recipies\n",
    "chef_prompt = ChatPromptTemplate.from_messages([\n",
    "    (\"system\",\"You are a world-class international chef. You create easy to follow recipies for any type of cuisine with easy to find ingredients.\"),\n",
    "    #human will say below\n",
    "    (\"human\", \"I want to cook {cuisine} food.\"),\n",
    "])\n",
    "\n",
    "chef_chain = chef_prompt | chat"
   ]
  },
  {
   "cell_type": "code",
   "execution_count": 11,
   "metadata": {},
   "outputs": [],
   "source": [
    "#chef for vegeterians\n",
    "#input of veg_chef >> from chef model\n",
    "#Output of veg_chef >> {recipe}\n",
    "veg_chef_prompt = ChatPromptTemplate.from_messages([\n",
    "    (\"system\", \"You are a vegetarian chef specialized on making traditional recipies vegetarian. You find alternative ingredients and explain their preparation. You don't radically modify the recipe. If there is no alternative for a food just say you don't know how to replace it.\"),\n",
    "    #sometimes needs to say you don't know\n",
    "    #Answer to\n",
    "    (\"human\", \"{recipe}\"),\n",
    "])"
   ]
  },
  {
   "cell_type": "code",
   "execution_count": 12,
   "metadata": {},
   "outputs": [],
   "source": [
    "veg_chain = veg_chef_prompt | chat"
   ]
  },
  {
   "cell_type": "code",
   "execution_count": 13,
   "metadata": {},
   "outputs": [
    {
     "name": "stdout",
     "output_type": "stream",
     "text": [
      "Great choice! Indian cuisine is known for its rich flavors and aromatic spices. Here's a recipe for a classic Indian dish called Butter Chicken:\n",
      "\n",
      "Ingredients:\n",
      "- 500g boneless chicken, cut into bite-sized pieces\n",
      "- 2 tablespoons butter\n",
      "- 1 onion, finely chopped\n",
      "- 2 cloves of garlic, minced\n",
      "- 1-inch piece of ginger, grated\n",
      "- 2 teaspoons garam masala\n",
      "- 1 teaspoon turmeric powder\n",
      "- 1 teaspoon chili powder (adjust to taste)\n",
      "- 1 cup tomato puree\n",
      "- 1/2 cup heavy cream\n",
      "- Salt to taste\n",
      "- Fresh cilantro leaves, for garnish\n",
      "\n",
      "Instructions:\n",
      "1. Heat the butter in a large pan over medium heat. Add the chopped onion and sauté until golden brown.\n",
      "2. Add the minced garlic and grated ginger to the pan and cook for another minute until fragrant.\n",
      "3. In a small bowl, mix together the garam masala, turmeric powder, and chili powder. Add this spice mixture to the pan and cook for a minute, stirring continuously.\n",
      "4. Add the chicken pieces to the pan and cook until they are browned on all sides.\n",
      "5. Pour in the tomato puree and season with salt. Stir well to combine all the ingredients.\n",
      "6. Reduce the heat to low, cover the pan, and let the chicken simmer for about 15-20 minutes or until cooked through.\n",
      "7. Stir in the heavy cream and simmer for an additional 5 minutes to allow the flavors to meld together.\n",
      "8. Taste and adjust the seasoning if needed.\n",
      "9. Garnish with fresh cilantro leaves and serve hot with steamed rice or naan bread.\n",
      "\n",
      "Enjoy your homemade Butter Chicken!Great choice! Butter Chicken is a delicious and popular Indian dish. As a vegetarian chef, I can help you make a vegetarian version of this recipe by replacing the chicken with a suitable alternative. Here's a modified version of the recipe:\n",
      "\n",
      "Ingredients:\n",
      "- 500g paneer (Indian cottage cheese), cut into bite-sized pieces\n",
      "- 2 tablespoons butter\n",
      "- 1 onion, finely chopped\n",
      "- 2 cloves of garlic, minced\n",
      "- 1-inch piece of ginger, grated\n",
      "- 2 teaspoons garam masala\n",
      "- 1 teaspoon turmeric powder\n",
      "- 1 teaspoon chili powder (adjust to taste)\n",
      "- 1 cup tomato puree\n",
      "- 1/2 cup heavy cream\n",
      "- Salt to taste\n",
      "- Fresh cilantro leaves, for garnish\n",
      "\n",
      "Instructions:\n",
      "1. Heat the butter in a large pan over medium heat. Add the chopped onion and sauté until golden brown.\n",
      "2. Add the minced garlic and grated ginger to the pan and cook for another minute until fragrant.\n",
      "3. In a small bowl, mix together the garam masala, turmeric powder, and chili powder. Add this spice mixture to the pan and cook for a minute, stirring continuously.\n",
      "4. Add the paneer pieces to the pan and cook until they are lightly browned on all sides.\n",
      "5. Pour in the tomato puree and season with salt. Stir well to combine all the ingredients.\n",
      "6. Reduce the heat to low, cover the pan, and let the paneer simmer for about 10-15 minutes to absorb the flavors.\n",
      "7. Stir in the heavy cream and simmer for an additional 5 minutes to allow the flavors to meld together.\n",
      "8. Taste and adjust the seasoning if needed.\n",
      "9. Garnish with fresh cilantro leaves and serve hot with steamed rice or naan bread.\n",
      "\n",
      "In this vegetarian version, paneer is used as a substitute for chicken. Paneer is a versatile and popular ingredient in Indian cuisine, known for its mild and creamy taste. It is readily available in most Indian grocery stores or can be made at home by curdling milk with lemon juice or vinegar.\n",
      "\n",
      "Enjoy your homemade Vegetarian Butter Paneer!Hello! How can I assist you today with vegetarian alternatives for traditional recipes?"
     ]
    },
    {
     "data": {
      "text/plain": [
       "AIMessage(content='Hello! How can I assist you today with vegetarian alternatives for traditional recipes?')"
      ]
     },
     "execution_count": 13,
     "metadata": {},
     "output_type": "execute_result"
    }
   ],
   "source": [
    "#THE HARDEST PART\n",
    "#input of final_chain is input of recipe\n",
    "#output is veg_chain\n",
    "\n",
    "\n",
    "#{\"recipe\", chef_chain} let the \"recipe\" will save the chef_chain result.\n",
    "#그냥 chef_chain | veg_chain만 써도 괜찮기는 함.\n",
    "final_chain = {\"recipe\": chef_chain} | veg_chain\n",
    "\n",
    "final_chain.invoke({\n",
    "    \"cuisine\": \"indian\"\n",
    "})\n",
    "\n",
    "#이렇게 써도 됨\n",
    "final_chain.invoke({\"cuisine\": \"Indian\"})\n",
    "\n",
    "\n",
    "'''\n",
    "#\"chatmodel\" wants to use the cusine answer as a recipe in veg_chain\n",
    "veg_chain.invoke({\n",
    "    \"recipe\": \"chatmodel\"\n",
    "})\n",
    "'''"
   ]
  }
 ],
 "metadata": {
  "kernelspec": {
   "display_name": "env",
   "language": "python",
   "name": "python3"
  },
  "language_info": {
   "codemirror_mode": {
    "name": "ipython",
    "version": 3
   },
   "file_extension": ".py",
   "mimetype": "text/x-python",
   "name": "python",
   "nbconvert_exporter": "python",
   "pygments_lexer": "ipython3",
   "version": "3.9.2"
  }
 },
 "nbformat": 4,
 "nbformat_minor": 2
}
