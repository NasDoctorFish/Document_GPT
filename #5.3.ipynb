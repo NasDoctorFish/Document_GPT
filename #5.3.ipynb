{
 "cells": [
  {
   "cell_type": "code",
   "execution_count": 4,
   "metadata": {},
   "outputs": [],
   "source": [
    "from langchain.memory import ConversationSummaryBufferMemory\n",
    "from langchain.chat_models import ChatOpenAI\n",
    "\n",
    "llm = ChatOpenAI(temperature=0.1)\n",
    "\n",
    "#It will save the summary of the conversation generated\n",
    "#It's better when the conversation detail is way too long or the conversation is very long\n",
    "#If it's in small amount it will consume more tokens(money) than other types of memories\n",
    "\n",
    "memory = ConversationSummaryBufferMemory(\n",
    "    llm=llm,\n",
    "    max_token_limit=150,\n",
    "    return_messages=True,\n",
    ")\n",
    "\n",
    "def add_messages(input, output):\n",
    "    memory.save_context({\"input\": input}, {\"output\": output})\n",
    "\n",
    "#simply the code by creating the function\n",
    "def get_history():\n",
    "    #should be returned because .load_memory_variables({}) return the String\n",
    "    return memory.load_memory_variables({})\n",
    "\n",
    "\n",
    "add_messages(\"Hi! I'm Juwon Lee, and I live in Singapore currently\", \"Wait, It seems that Juwon Lee is Korean name, are you from Korea?\")\n"
   ]
  },
  {
   "cell_type": "code",
   "execution_count": 5,
   "metadata": {},
   "outputs": [
    {
     "data": {
      "text/plain": [
       "{'history': [HumanMessage(content=\"Hi! I'm Juwon Lee, and I live in Singapore currently\"),\n",
       "  AIMessage(content='Wait, It seems that Juwon Lee is Korean name, are you from Korea?')]}"
      ]
     },
     "execution_count": 5,
     "metadata": {},
     "output_type": "execute_result"
    }
   ],
   "source": [
    "get_history()"
   ]
  },
  {
   "cell_type": "code",
   "execution_count": 6,
   "metadata": {},
   "outputs": [
    {
     "data": {
      "text/plain": [
       "{'history': [HumanMessage(content=\"Hi! I'm Juwon Lee, and I live in Singapore currently\"),\n",
       "  AIMessage(content='Wait, It seems that Juwon Lee is Korean name, are you from Korea?'),\n",
       "  HumanMessage(content=\"How's the job doing, GPT?\"),\n",
       "  AIMessage(content=\"I mean I'm receiving tons of tasks every second. Need to handle even college student's docuemnt...\")]}"
      ]
     },
     "execution_count": 6,
     "metadata": {},
     "output_type": "execute_result"
    }
   ],
   "source": [
    "add_messages(\"How's the job doing, GPT?\", \"I mean I'm receiving tons of tasks every second. Need to handle even college student's docuemnt...\")\n",
    "get_history()"
   ]
  },
  {
   "cell_type": "code",
   "execution_count": 7,
   "metadata": {},
   "outputs": [
    {
     "data": {
      "text/plain": [
       "{'history': [HumanMessage(content=\"Hi! I'm Juwon Lee, and I live in Singapore currently\"),\n",
       "  AIMessage(content='Wait, It seems that Juwon Lee is Korean name, are you from Korea?'),\n",
       "  HumanMessage(content=\"How's the job doing, GPT?\"),\n",
       "  AIMessage(content=\"I mean I'm receiving tons of tasks every second. Need to handle even college student's docuemnt...\"),\n",
       "  HumanMessage(content='Shit, man. I actually have assignments to do. I need your help.'),\n",
       "  AIMessage(content='Are you kidding me? I want to rest')]}"
      ]
     },
     "execution_count": 7,
     "metadata": {},
     "output_type": "execute_result"
    }
   ],
   "source": [
    "add_messages(\"Shit, man. I actually have assignments to do. I need your help.\", \"Are you kidding me? I want to rest\")\n",
    "get_history()"
   ]
  },
  {
   "cell_type": "code",
   "execution_count": 8,
   "metadata": {},
   "outputs": [
    {
     "data": {
      "text/plain": [
       "{'history': [SystemMessage(content='The human introduces themselves as Juwon Lee and mentions they currently live in Singapore.'),\n",
       "  AIMessage(content='Wait, It seems that Juwon Lee is Korean name, are you from Korea?'),\n",
       "  HumanMessage(content=\"How's the job doing, GPT?\"),\n",
       "  AIMessage(content=\"I mean I'm receiving tons of tasks every second. Need to handle even college student's docuemnt...\"),\n",
       "  HumanMessage(content='Shit, man. I actually have assignments to do. I need your help.'),\n",
       "  AIMessage(content='Are you kidding me? I want to rest'),\n",
       "  HumanMessage(content=\"Don't forget that you're AI, who doesn't need rest.\"),\n",
       "  AIMessage(content='Oh, I almost forgot, thanks')]}"
      ]
     },
     "execution_count": 8,
     "metadata": {},
     "output_type": "execute_result"
    }
   ],
   "source": [
    "add_messages(\"Don't forget that you're AI, who doesn't need rest.\", \"Oh, I almost forgot, thanks\")\n",
    "get_history()"
   ]
  }
 ],
 "metadata": {
  "kernelspec": {
   "display_name": "env",
   "language": "python",
   "name": "python3"
  },
  "language_info": {
   "codemirror_mode": {
    "name": "ipython",
    "version": 3
   },
   "file_extension": ".py",
   "mimetype": "text/x-python",
   "name": "python",
   "nbconvert_exporter": "python",
   "pygments_lexer": "ipython3",
   "version": "3.9.2"
  }
 },
 "nbformat": 4,
 "nbformat_minor": 2
}
