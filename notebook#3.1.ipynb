{
 "cells": [
  {
   "cell_type": "code",
   "execution_count": 2,
   "metadata": {},
   "outputs": [
    {
     "name": "stderr",
     "output_type": "stream",
     "text": [
      "/Users/davidlee/Documents/Full-Stack GPT/env/lib/python3.9/site-packages/langchain_core/_api/deprecation.py:117: LangChainDeprecationWarning: The class `langchain_community.chat_models.openai.ChatOpenAI` was deprecated in langchain-community 0.0.10 and will be removed in 0.2.0. An updated version of the class exists in the langchain-openai package and should be used instead. To use it run `pip install -U langchain-openai` and import as `from langchain_openai import ChatOpenAI`.\n",
      "  warn_deprecated(\n"
     ]
    }
   ],
   "source": [
    "from langchain.chat_models import ChatOpenAI\n",
    "\n",
    "chat = ChatOpenAI(temperature=0.9)"
   ]
  },
  {
   "cell_type": "code",
   "execution_count": 5,
   "metadata": {},
   "outputs": [
    {
     "data": {
      "text/plain": [
       "AIMessage(content='Ciao Paolo! My name is Assistant. The distance between Mexico and Thailand is approximately 15,081 kilometers or 9,366 miles.')"
      ]
     },
     "execution_count": 5,
     "metadata": {},
     "output_type": "execute_result"
    }
   ],
   "source": [
    "#schema: 계획, 도식\n",
    "#system message 기본값, 기본설정, providing context\n",
    "#AIMessage: Message sent by AI\n",
    "#Human Message : Message by Human\n",
    "\n",
    "#AIMessage and SystemMessage can provide the storyboard or context to AI to response properly to the user\n",
    "from langchain.schema import HumanMessage, AIMessage, SystemMessage\n",
    "messages = [\n",
    "    #System Message is sort of context that is given to the model\n",
    "    #More specify how the reply should be and what the AI should predict\n",
    "    SystemMessage(\n",
    "        content = \"Your are a geography expert\"\n",
    "    ),\n",
    "    AIMessage(content=\"Ciao, mi chiamo Paolo!\"),\n",
    "    HumanMessage(\n",
    "        content = \"What is the distance between Mexico and Thailand. Also, what is your name?\",\n",
    "    ),\n",
    "]\n",
    "\n",
    "#강사는 \n",
    "#chat.predict_messages(messages)\n",
    "#위처럼 썼는데 버전 달라도 실행은 되지만 현재 .invoke로 Depreciate 됬다고 함.\n",
    "chat.invoke(messages)"
   ]
  },
  {
   "cell_type": "code",
   "execution_count": 7,
   "metadata": {},
   "outputs": [
    {
     "data": {
      "text/plain": [
       "AIMessage(content='Ciao! Mi chiamo ChatGPT. Per poter calcolare la distanza tra {country_a} e {country_b}, avrei bisogno di specifiche ulteriori riguardo alle città o alle coordinate geografiche di riferimento. Potresti fornire maggiori dettagli?')"
      ]
     },
     "execution_count": 7,
     "metadata": {},
     "output_type": "execute_result"
    }
   ],
   "source": [
    "#schema: 계획, 도식\n",
    "#system message 기본값, 기본설정, providing context\n",
    "from langchain.schema import HumanMessage, AIMessage, SystemMessage\n",
    "messages = [\n",
    "    #System Message is sort of context that is given to the model\n",
    "    #More specify how the reply should be and what the AI should predict\n",
    "    SystemMessage(\n",
    "        content = \"Your are a geography expert. And you only reply in {language}.\"\n",
    "    ),\n",
    "    AIMessage(content=\"Ciao, mi chiamo {name}!\"),\n",
    "    HumanMessage(\n",
    "        content = \"What is the distance between {country_a} and {country_b}. Also, what is your name?\",\n",
    "    ),\n",
    "]\n",
    "\n",
    "chat.invoke(messages)"
   ]
  },
  {
   "cell_type": "code",
   "execution_count": null,
   "metadata": {},
   "outputs": [],
   "source": []
  }
 ],
 "metadata": {
  "kernelspec": {
   "display_name": "env",
   "language": "python",
   "name": "python3"
  },
  "language_info": {
   "codemirror_mode": {
    "name": "ipython",
    "version": 3
   },
   "file_extension": ".py",
   "mimetype": "text/x-python",
   "name": "python",
   "nbconvert_exporter": "python",
   "pygments_lexer": "ipython3",
   "version": "3.9.2"
  }
 },
 "nbformat": 4,
 "nbformat_minor": 2
}
