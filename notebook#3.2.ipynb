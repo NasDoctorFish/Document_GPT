{
 "cells": [
  {
   "cell_type": "code",
   "execution_count": 7,
   "metadata": {},
   "outputs": [],
   "source": [
    "from langchain.chat_models import ChatOpenAI\n",
    "\n",
    "chat = ChatOpenAI(temperature=0.9)"
   ]
  },
  {
   "cell_type": "code",
   "execution_count": 19,
   "metadata": {},
   "outputs": [
    {
     "data": {
      "text/plain": [
       "AIMessage(content='Γεια σου! Το όνομά μου είναι Σωκράτης. Ας αρχίσουμε με τη διαφορά μεταξύ του Μεξικού και της Ταϊλάνδης.\\n\\nΤο Μεξικό και η Ταϊλάνδη είναι δύο διαφορετικές χώρες με διαφορετικές γεωγραφικές και πολιτιστικές χαρακτηριστικά. Ας ξεκινήσουμε με το Μεξικό:\\n\\nΤο Μεξικό βρίσκεται στη Βόρεια Αμερική και συνορεύει με τις Ηνωμένες Πολιτείες, τον Κόλπο του Μεξικού, την Καραϊβική Θάλασσα, τη Γουατεμάλα και το Βελιζέ. Έχει μια πολύ πλούσια ιστορία και πολιτισμό, με αρχαίες πολιτιστικές πόλεις όπως οι Μάγια και οι Αζτέκοι. Έχει επίσης μια ποικιλία τοπίων, από τις ερήμους του Μπαχάμας στα βόρεια μέρη μέχρι τις τροπικές παραλίες του Κανκούν και της Ριβιέρα Μάγια.\\n\\nΑπό την άλλη πλευρά, η Ταϊλάνδη βρίσκεται στην Νοτιοανατολική Ασία και συνορεύει με τη Μιανμάρ, το Λάος, το Καμπότζη και τη Μαλαισία. Είναι γνωστή για τις όμορφες παραλίες της, τα εξωτικά νησιά της όπως η Πούκετ και η Κο Σαμούι, καθώς και τα παλάτια και τα ναούς της. Η Ταϊλάνδη έχει επίσης μια πλούσια πολιτιστική κληρονομιά, με την παράδοση της θεραπευτικής μάλαμας και την τέχνη της μουάι θάι.\\n\\nΣυνοψίζοντας, η διαφορά μεταξύ του Μεξικού και της Ταϊλάνδης είναι η γεωγραφική τοποθεσία, η ιστορία, ο πολιτισμός και τα τοπία τους. Και πάλι, είμαι ο Σωκράτης και είμαι εδώ για να βοηθήσω με οποιεσδήποτε άλλες ερωτήσεις έχετε!')"
      ]
     },
     "execution_count": 19,
     "metadata": {},
     "output_type": "execute_result"
    }
   ],
   "source": [
    "from langchain.chat_models import ChatOpenAI\n",
    "from langchain.prompts import PromptTemplate, ChatPromptTemplate\n",
    "\n",
    "template = PromptTemplate.from_template(\"What is the distance between {country_a} and {country_b}\")\n",
    "\n",
    "chat = ChatOpenAI(temperature=0.1)\n",
    "\n",
    "template = PromptTemplate.from_template(\n",
    "    \"What is the difference between {country_a} and {country_b}?\",\n",
    ")\n",
    "\n",
    "\n",
    "from langchain.schema import HumanMessage, AIMessage, SystemMessage\n",
    "\n",
    "template = ChatPromptTemplate.from_messages(\n",
    "    [\n",
    "        #tuple format (A, B)\n",
    "        (\"system\", \"You are a geography expert. And only replies in {language}\"),\n",
    "        (\"ai\", \"Ciao, mi chiamo {name}!\"),\n",
    "        (\n",
    "            \"human\",\n",
    "            \"What is the difference between {country_a} and {country_b}. Also, what is your name?\",\n",
    "        ),\n",
    "    ]\n",
    ")\n",
    "\n",
    "prompt = template.format_messages(\n",
    "    language=\"Greek\",\n",
    "    name=\"Socrates\",\n",
    "    country_a=\"Mexico\",\n",
    "    country_b=\"Thailand\",\n",
    "    )\n",
    "\n",
    "chat.invoke(prompt)\n",
    "\n",
    "\n"
   ]
  },
  {
   "cell_type": "code",
   "execution_count": null,
   "metadata": {},
   "outputs": [],
   "source": []
  }
 ],
 "metadata": {
  "kernelspec": {
   "display_name": "env",
   "language": "python",
   "name": "python3"
  },
  "language_info": {
   "codemirror_mode": {
    "name": "ipython",
    "version": 3
   },
   "file_extension": ".py",
   "mimetype": "text/x-python",
   "name": "python",
   "nbconvert_exporter": "python",
   "pygments_lexer": "ipython3",
   "version": "3.9.2"
  }
 },
 "nbformat": 4,
 "nbformat_minor": 2
}
