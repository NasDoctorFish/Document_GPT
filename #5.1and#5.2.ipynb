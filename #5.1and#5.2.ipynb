{
 "cells": [
  {
   "cell_type": "code",
   "execution_count": 7,
   "metadata": {},
   "outputs": [],
   "source": [
    "from langchain.memory import ConversationSummaryMemory\n",
    "from langchain.chat_models import ChatOpenAI\n",
    "\n",
    "llm = ChatOpenAI(temperature=0.1)\n",
    "\n",
    "#It will save the summary of the conversation generated\n",
    "#It's better when the conversation detail is way too long or the conversation is very long\n",
    "#If it's in small amount it will consume more tokens(money) than other types of memories\n",
    "\n",
    "memory = ConversationSummaryMemory(llm=llm)\n",
    "\n",
    "def add_messages(input, output):\n",
    "    memory.save_context({\"input\": input}, {\"output\": output})\n",
    "\n",
    "#simply the code by creating the function\n",
    "def get_history():\n",
    "    #should be returned because .load_memory_variables({}) return the String\n",
    "    return memory.load_memory_variables({})\n",
    "\n",
    "\n",
    "add_messages(\"Hi! I'm Juwon Lee, and I live in Singapore currently\", \"Wait, It seems that Juwon Lee is Korean name, are you from Korea?\")\n"
   ]
  },
  {
   "cell_type": "code",
   "execution_count": 8,
   "metadata": {},
   "outputs": [],
   "source": [
    "add_messages(\"Yeah, it's true, How did you know that?\", \"Because I'm the ChatGPT, one of the most smartest AI model, hahaha.\")"
   ]
  },
  {
   "cell_type": "code",
   "execution_count": 9,
   "metadata": {},
   "outputs": [
    {
     "data": {
      "text/plain": [
       "{'history': 'The human introduces themselves as Juwon Lee from Singapore, and the AI questions if Juwon Lee is from Korea due to the name similarity. Juwon confirms they are from Korea, and the AI jokes about being one of the smartest AI models, ChatGPT.'}"
      ]
     },
     "execution_count": 9,
     "metadata": {},
     "output_type": "execute_result"
    }
   ],
   "source": [
    "get_history()"
   ]
  }
 ],
 "metadata": {
  "kernelspec": {
   "display_name": "env",
   "language": "python",
   "name": "python3"
  },
  "language_info": {
   "codemirror_mode": {
    "name": "ipython",
    "version": 3
   },
   "file_extension": ".py",
   "mimetype": "text/x-python",
   "name": "python",
   "nbconvert_exporter": "python",
   "pygments_lexer": "ipython3",
   "version": "3.9.2"
  }
 },
 "nbformat": 4,
 "nbformat_minor": 2
}
